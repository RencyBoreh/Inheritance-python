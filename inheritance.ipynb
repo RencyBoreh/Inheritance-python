{
  "nbformat": 4,
  "nbformat_minor": 0,
  "metadata": {
    "colab": {
      "provenance": []
    },
    "kernelspec": {
      "name": "python3",
      "display_name": "Python 3"
    },
    "language_info": {
      "name": "python"
    }
  },
  "cells": [
    {
      "cell_type": "code",
      "execution_count": 16,
      "metadata": {
        "colab": {
          "base_uri": "https://localhost:8080/"
        },
        "id": "FfhL46fzSuLb",
        "outputId": "099d482a-e850-474e-b5ef-151e214c3f8c"
      },
      "outputs": [
        {
          "output_type": "stream",
          "name": "stdout",
          "text": [
            "########Rency---------Student#######\n",
            "Rency is eating\n",
            "Rency usually walks at 6pm\n",
            "Rency is a Student\n",
            "Rency is saying Hello!\n",
            "########Rabby---------Nurse#######\n",
            "Rabby is eating\n",
            "Rabby usually walks at 6pm\n",
            "Rabby is a Nurse\n",
            "Rabby is saying Hello!\n",
            "########Resly---------Doctor#######\n",
            "Resly is eating\n",
            "Resly usually walks at 6pm\n",
            "Resly is a Doctor\n",
            "Resly is saying Hello!\n"
          ]
        }
      ],
      "source": [
        "class Human:\n",
        "  def __init__(self,name,career):\n",
        "    self.name=name\n",
        "    self.career=career\n",
        "  def eating(self):\n",
        "    print(f\"{self.name} is eating\")\n",
        "  def walking(self):\n",
        "    print(f\"{self.name} usually walks at 6pm\")\n",
        "  def occupation(self):\n",
        "    if self.career==\"Doctor\":\n",
        "      print(f\"{self.name} is a Doctor\")\n",
        "    elif self.career==\"Nurse\":\n",
        "      print(f\"{self.name} is a Nurse\")\n",
        "    elif self.career==\"Student\":\n",
        "      print(f\"{self.name} is a Student\")\n",
        "  def greeting(self):\n",
        "    print(f\"{self.name} is saying Hello!\")\n",
        "class student(Human):\n",
        "  def __init__(self,name,career):\n",
        "    super().__init__(name,career)\n",
        "  def __str__(self):\n",
        "    return f\"########{self.name}---------{self.career}#######\"\n",
        "rency=student(\"Rency\",\"Student\")\n",
        "print(rency)\n",
        "rency.eating()\n",
        "rency.walking()\n",
        "rency.occupation()\n",
        "rency.greeting()\n",
        "rabby=student(\"Rabby\",\"Nurse\")\n",
        "print(rabby)\n",
        "rabby.eating()\n",
        "rabby.walking()\n",
        "rabby.occupation()\n",
        "rabby.greeting()\n",
        "Resly=student(\"Resly\",\"Doctor\")\n",
        "print(Resly)\n",
        "Resly.eating()\n",
        "Resly.walking()\n",
        "Resly.occupation()\n",
        "Resly.greeting()"
      ]
    },
    {
      "cell_type": "code",
      "source": [
        "class humans:\n",
        "  def __init__(self,name,age):\n",
        "    self.name=name\n",
        "    self.age=age\n",
        "  def walking(self):\n",
        "    print(f\"{self.name} is walking\")\n",
        "  def aging(self):\n",
        "    print(f\"{self.name} is {self.age} years old\")\n",
        "class stud(humans):\n",
        "  def __init__(self,name,age,career):\n",
        "    super().__init__(name,age)\n",
        "    self.career=career\n",
        "  def __str__(self):\n",
        "    return f\"*******({self.name})--------({self.age})---------({self.career})********\"\n",
        "    if self.career==\"student\":\n",
        "      print(f\"{self.name} is a student \")\n",
        "    elif self.career==\"Working\":\n",
        "      print(f\"{self.name} is already working\")\n",
        "\n",
        "rency=stud(\"Rency\",21,\"student\")\n",
        "print(rency)\n",
        "rency.walking()\n",
        "rency.aging()\n",
        "rabby=stud(\"Rabby\",22,\"Working\")\n",
        "print(rabby)\n",
        "rabby.aging()\n",
        "rabby.walking()"
      ],
      "metadata": {
        "colab": {
          "base_uri": "https://localhost:8080/"
        },
        "id": "yl5P-g7dUqfS",
        "outputId": "e9303a38-4dfd-48e8-cb8c-186a78762737"
      },
      "execution_count": 23,
      "outputs": [
        {
          "output_type": "stream",
          "name": "stdout",
          "text": [
            "*******(Rency)--------(21)---------(student)********\n",
            "Rency is walking\n",
            "Rency is 21 years old\n",
            "*******(Rabby)--------(22)---------(Working)********\n",
            "Rabby is 22 years old\n",
            "Rabby is walking\n"
          ]
        }
      ]
    },
    {
      "cell_type": "code",
      "source": [],
      "metadata": {
        "id": "VYzUUWOMZOTv"
      },
      "execution_count": null,
      "outputs": []
    }
  ]
}